{
 "cells": [
  {
   "cell_type": "markdown",
   "metadata": {},
   "source": [
    "# Intuitively Understanding Variational Autoencoders\n",
    "\n",
    "And why they’re so useful in creating your own generative text, art and even music"
   ]
  },
  {
   "cell_type": "markdown",
   "metadata": {},
   "source": [
    "In contrast to the more standard uses of neural networks as regressors or classifiers, Variational Autoencoders (VAEs) are powerful generative models, now having applications as diverse as from generating fake human faces, to producing purely synthetic music.\n",
    "\n",
    "This lesson will explore what a VAE is, the intuition behind why it works so well, and its uses as a powerful generative tool for all kinds of media."
   ]
  },
  {
   "cell_type": "markdown",
   "metadata": {},
   "source": [
    "## But first, why VAEs?\n"
   ]
  },
  {
   "cell_type": "markdown",
   "metadata": {},
   "source": [
    "<img src=\"https://user-images.githubusercontent.com/1387585/52690938-f0d2e200-2f67-11e9-8666-d6c2e55ea074.png\" alt=\"Drawing\" style=\"width: 400px;\"/>\n"
   ]
  },
  {
   "cell_type": "markdown",
   "metadata": {},
   "source": [
    "When using generative models, you could simply want to generate a random, new output, that looks similar to the training data, and you can certainly do that too with VAEs. But more often, you’d like to alter, or explore variations on data you already have, and not just in a random way either, but in a desired, specific direction. This is where VAEs work better than any other method currently available."
   ]
  },
  {
   "cell_type": "markdown",
   "metadata": {},
   "source": [
    "## Decoding the standard autoencoder\n"
   ]
  },
  {
   "cell_type": "markdown",
   "metadata": {},
   "source": [
    "An autoencoder network is actually a pair of two connected networks, an encoder and a decoder. An encoder network takes in an input, and converts it into a smaller, dense representation, which the decoder network can use to convert it back to the original input.\n",
    "\n",
    "If you’re unfamiliar with encoder networks, but familiar with Convolutional Neural Networks (CNNs), chances are, you already know what an encoder does."
   ]
  },
  {
   "cell_type": "markdown",
   "metadata": {},
   "source": [
    "<img src=\"https://user-images.githubusercontent.com/1387585/52691097-6ccd2a00-2f68-11e9-9180-0be25a47eff2.png\" alt=\"Drawing\" style=\"width: 1000px;\"/>\n"
   ]
  },
  {
   "cell_type": "markdown",
   "metadata": {},
   "source": [
    "The convolutional layers of any CNN take in a large image (eg. rank 3 tensor of size 299x299x3), and convert it to a much more compact, dense representation (eg. rank 1 tensor of size 1000). This dense representation is then used by the fully connected classifier network to classify the image.\n",
    "\n",
    "The encoder is similar, it is simply is a network that takes in an input and produces a much smaller representation (the encoding), that contains enough information for the next part of the network to process it into the desired output format. Typically, the encoder is trained together with the other parts of the network, optimized via back-propagation, to produce encodings specifically useful for the task at hand. In CNNs, the 1000-dimensional encodings produced are such that they’re specifically useful for classification.\n",
    "\n",
    "Autoencoders take this idea, and slightly flip it on its head, by making the encoder generate encodings specifically useful for reconstructing its own input."
   ]
  },
  {
   "cell_type": "markdown",
   "metadata": {},
   "source": [
    "<img src=\"https://user-images.githubusercontent.com/1387585/52691160-9a19d800-2f68-11e9-9d20-550aeef50d9b.png\" alt=\"Drawing\" style=\"width: 1000px;\"/>\n"
   ]
  },
  {
   "cell_type": "markdown",
   "metadata": {},
   "source": [
    "The entire network is usually trained as a whole. The loss function is usually either the mean-squared error or cross-entropy between the output and the input, known as the reconstruction loss, which penalizes the network for creating outputs different from the input.\n",
    "\n",
    "As the encoding (which is simply the output of the hidden layer in the middle) has far less units than the input, the encoder must choose to discard information. The encoder learns to preserve as much of the relevant information as possible in the limited encoding, and intelligently discard irrelevant parts. The decoder learns to take the encoding and properly reconstruct it into a full image. Together, they form an autoencoder."
   ]
  },
  {
   "cell_type": "markdown",
   "metadata": {},
   "source": [
    "### The problem with standard autoencoders\n",
    "Standard autoencoders learn to generate compact representations and reconstruct their inputs well, but asides from a few applications like denoising autoencoders, they are fairly limited.\n",
    "\n",
    "The fundamental problem with autoencoders, for generation, is that the latent space they convert their inputs to and where their encoded vectors lie, may not be continuous, or allow easy interpolation."
   ]
  },
  {
   "cell_type": "markdown",
   "metadata": {},
   "source": [
    "<img src=\"https://user-images.githubusercontent.com/1387585/52691214-c9c8e000-2f68-11e9-8212-157506c51200.png\" alt=\"Drawing\" style=\"width: 500px;\"/>\n"
   ]
  },
  {
   "cell_type": "markdown",
   "metadata": {},
   "source": [
    "For example, training an autoencoder on the MNIST dataset, and visualizing the encodings from a 2D latent space reveals the formation of distinct clusters. This makes sense, as distinct encodings for each image type makes it far easier for the decoder to decode them. This is fine if you’re just replicating the same images.\n",
    "\n",
    "But when you’re building a generative model, you don’t want to prepare to replicate the same image you put in. You want to randomly sample from the latent space, or generate variations on an input image, from a continuous latent space."
   ]
  },
  {
   "cell_type": "markdown",
   "metadata": {},
   "source": [
    "If the space has discontinuities (eg. gaps between clusters) and you sample/generate a variation from there, the decoder will simply generate an unrealistic output, because the decoder has no idea how to deal with that region of the latent space. During training, it never saw encoded vectors coming from that region of latent space."
   ]
  },
  {
   "cell_type": "markdown",
   "metadata": {},
   "source": [
    "## Variational Autoencoders\n",
    "Variational Autoencoders (VAEs) have one fundamentally unique property that separates them from vanilla autoencoders, and it is this property that makes them so useful for generative modeling: their latent spaces are, by design, continuous, allowing easy random sampling and interpolation.\n",
    "\n",
    "It achieves this by doing something that seems rather surprising at first: making its encoder not output an encoding vector of size n, rather, outputting two vectors of size n: a vector of means, **μ**, and another vector of standard deviations,\n",
    "__σ__."
   ]
  },
  {
   "cell_type": "markdown",
   "metadata": {},
   "source": [
    "<img src=\"https://user-images.githubusercontent.com/1387585/52901904-606bfa00-3212-11e9-95f9-f50aed9fd4a6.png\" alt=\"Drawing\" style=\"width: 500px;\"/>\n"
   ]
  },
  {
   "cell_type": "markdown",
   "metadata": {},
   "source": [
    "They form the parameters of a vector of random variables of length n, with the i th element of __μ__ and **σ** being the mean and standard deviation of the i th random variable, $X$ i, from which we sample, to obtain the sampled encoding which we pass onward to the decoder:"
   ]
  },
  {
   "cell_type": "markdown",
   "metadata": {},
   "source": [
    "<img src=\"https://user-images.githubusercontent.com/1387585/52691502-abafaf80-2f69-11e9-851c-a3c4eba75c4f.png\" alt=\"Drawing\" style=\"width: 500px;\"/>\n"
   ]
  },
  {
   "cell_type": "markdown",
   "metadata": {},
   "source": [
    "This stochastic generation means, that even for the same input, while the mean and standard deviations remain the same, the actual encoding will somewhat vary on every single pass simply due to sampling."
   ]
  },
  {
   "cell_type": "markdown",
   "metadata": {},
   "source": [
    "<img src=\"https://user-images.githubusercontent.com/1387585/52691893-efef7f80-2f6a-11e9-8f0b-e67796b596ab.png\" alt=\"Drawing\" style=\"width: 500px;\"/>\n"
   ]
  },
  {
   "cell_type": "markdown",
   "metadata": {},
   "source": [
    "Intuitively, the mean vector controls where the encoding of an input should be centered around, while the standard deviation controls the “area”, how much from the mean the encoding can vary. As encodings are generated at random from anywhere inside the “circle” (the distribution), the decoder learns that not only is a single point in latent space referring to a sample of that class, but all nearby points refer to the same as well. This allows the decoder to not just decode single, specific encodings in the latent space (leaving the decodable latent space discontinuous), but ones that slightly vary too, as the decoder is exposed to a range of variations of the encoding of the same input during training. In code:"
   ]
  },
  {
   "cell_type": "markdown",
   "metadata": {},
   "source": [
    "The model is now exposed to a certain degree of local variation by varying the encoding of one sample, resulting in smooth latent spaces on a local scale, that is, for similar samples. Ideally, we want overlap between samples that are not very similar too, in order to interpolate between classes. However, since there are no limits on what values vectors μ and σ can take on, the encoder can learn to generate very different μ for different classes, clustering them apart, and minimize σ, making sure the encodings themselves don’t vary much for the same sample (that is, less uncertainty for the decoder). This allows the decoder to efficiently reconstruct the training data."
   ]
  },
  {
   "cell_type": "code",
   "execution_count": null,
   "metadata": {},
   "outputs": [],
   "source": [
    "import matplotlib.pyplot as plt\n",
    "import numpy as np\n",
    "import torch\n",
    "import torch.utils.data\n",
    "import torch.utils.data\n",
    "from torch import nn\n",
    "from torch.nn import functional as F\n",
    "from torchvision import datasets, transforms\n",
    "from tqdm import tqdm"
   ]
  },
  {
   "cell_type": "code",
   "execution_count": null,
   "metadata": {},
   "outputs": [],
   "source": [
    "class VAE(nn.Module):\n",
    "    def __init__(self, latent_dim):\n",
    "        super(VAE, self).__init__()\n",
    "        \n",
    "        # Task 1: Implement network architecture according to the picture\n",
    "        self.latent_dim = latent_dim\n",
    "        # inference network\n",
    "        self.input_hidden1 = nn.Linear(784, 200)\n",
    "        self.hidden1_hidden2 = nn.Linear(200, 200)\n",
    "        self.hidden2_mu = nn.Linear(200, latent_dim)\n",
    "        self.hidden2_sig = nn.Linear(200, latent_dim)\n",
    "        # generation network\n",
    "        self.z_hidden3 = nn.Linear(latent_dim, 200)\n",
    "        self.hidden3_hidden4 = nn.Linear(200, 200)\n",
    "        self.hidden4_output = nn.Linear(200, 784)\n",
    "\n",
    "    def encode(self, x):\n",
    "        # inference network\n",
    "        hidden1 = F.relu(self.input_hidden1(x.view(-1, 784)))\n",
    "        hidden2 = F.relu(self.hidden1_hidden2(hidden1))\n",
    "        z_mu = self.hidden2_mu(hidden2)\n",
    "        z_logsig = self.hidden2_sig(hidden2)\n",
    "        return z_mu, z_logsig\n",
    "\n",
    "    def decode(self, z):\n",
    "        # generation network\n",
    "        hidden3 = F.relu(self.z_hidden3(z))\n",
    "        hidden4 = F.relu(self.hidden3_hidden4(hidden3))\n",
    "        y = torch.sigmoid(self.hidden4_output(hidden4))\n",
    "        return y\n",
    "\n",
    "    def forward(self, x):\n",
    "        # forward pass\n",
    "        # inference network generates latent parameters (mean and log variance)\n",
    "        z_mu, z_logsig = self.encode(x)\n",
    "        # reparametrization trick to differentiate z_sample\n",
    "        z_prior = torch.randn(1, latent_dim).cuda()\n",
    "        std = z_logsig.mul(0.5).exp_()\n",
    "        z_sample = z_prior.mul(std).add_(z_mu)\n",
    "        y = self.decode(z_sample)\n",
    "        return y, z_mu, z_logsig"
   ]
  },
  {
   "cell_type": "markdown",
   "metadata": {},
   "source": [
    "<img src=\"https://user-images.githubusercontent.com/1387585/52691986-4361cd80-2f6b-11e9-95de-02e27c38776c.png\" alt=\"Drawing\" style=\"width: 500px;\"/>\n"
   ]
  },
  {
   "cell_type": "markdown",
   "metadata": {},
   "source": [
    "What we ideally want are encodings, all of which are as close as possible to each other while still being distinct, allowing smooth interpolation, and enabling the construction of new samples.\n",
    "\n",
    "In order to force this, we introduce the Kullback–Leibler divergence (KL divergence[2]) into the loss function. The KL divergence between two probability distributions simply measures how much they diverge from each other. Minimizing the KL divergence here means optimizing the probability distribution parameters (**μ** and __σ__) to closely resemble that of the target distribution."
   ]
  },
  {
   "cell_type": "markdown",
   "metadata": {},
   "source": [
    "<img src=\"https://user-images.githubusercontent.com/1387585/52692037-6f7d4e80-2f6b-11e9-8a48-1a29cbf100fa.png\" alt=\"Drawing\" style=\"width: 600px;\"/>\n"
   ]
  },
  {
   "cell_type": "markdown",
   "metadata": {},
   "source": [
    "\n",
    "Intuitively, this loss encourages the encoder to distribute all encodings (for all types of inputs, eg. all MNIST numbers), evenly around the center of the latent space. If it tries to “cheat” by clustering them apart into specific regions, away from the origin, it will be penalized.\n",
    "\n",
    "Now, using purely KL loss results in a latent space results in encodings densely placed randomly, near the center of the latent space, with little regard for similarity among nearby encodings. The decoder finds it impossible to decode anything meaningful from this space, simply because there really isn’t any meaning.\n",
    "\n"
   ]
  },
  {
   "cell_type": "markdown",
   "metadata": {},
   "source": [
    "<img src=\"https://user-images.githubusercontent.com/1387585/52692066-8ae85980-2f6b-11e9-8cef-3df1689f3b1f.png\" alt=\"Drawing\" style=\"width: 500px;\"/>\n"
   ]
  },
  {
   "cell_type": "markdown",
   "metadata": {},
   "source": [
    "Optimizing the two together, however, results in the generation of a latent space which maintains the similarity of nearby encodings on the local scale via clustering, yet globally, is very densely packed near the latent space origin (compare the axes with the original)."
   ]
  },
  {
   "cell_type": "markdown",
   "metadata": {},
   "source": [
    "<img src=\"https://user-images.githubusercontent.com/1387585/52692108-a2bfdd80-2f6b-11e9-8e24-9aa17ff5cfef.png\" alt=\"Drawing\" style=\"width: 500px;\"/>\n"
   ]
  },
  {
   "cell_type": "markdown",
   "metadata": {},
   "source": [
    "Intuitively, this is the equilibrium reached by the cluster-forming nature of the reconstruction loss, and the dense packing nature of the KL loss, forming distinct clusters the decoder can decode. This is great, as it means when randomly generating, if you sample a vector from the same prior distribution of the encoded vectors, N(0, I), the decoder will successfully decode it. And if you’re interpolating, there are no sudden gaps between clusters, but a smooth mix of features a decoder can understand."
   ]
  },
  {
   "cell_type": "code",
   "execution_count": null,
   "metadata": {},
   "outputs": [],
   "source": [
    "def criterion(y, x, z_mu, z_logsig):\n",
    "    # recontruction loss\n",
    "    recon = F.binary_cross_entropy(y, x.view(-1, 784))\n",
    "    # kl divergence between Q(z|x) ~ N(mu, sigma) and P(z) ~ N(0, I)\n",
    "    kl = -0.5 * torch.sum(1 + z_logsig - z_mu.pow(2) - z_logsig.exp()) / (mb_size * 784)\n",
    "    return recon + kl"
   ]
  },
  {
   "cell_type": "code",
   "execution_count": null,
   "metadata": {},
   "outputs": [],
   "source": [
    "# training loop\n",
    "latent_dim = 2  # z size\n",
    "mb_size = 256  # minibatch size\n",
    "\n",
    "train_loader = torch.utils.data.DataLoader(\n",
    "    datasets.FashionMNIST('../data', train=True, download=True,\n",
    "                          transform=transforms.ToTensor()),\n",
    "    batch_size=mb_size, shuffle=True)\n",
    "\n",
    "model = VAE(latent_dim).cuda()\n",
    "optimizer = torch.optim.Adam(model.parameters(), lr=1e-3)\n",
    "epochs = 10\n",
    "\n",
    "pbar = tqdm(range(1, epochs + 1))\n",
    "for e in pbar:\n",
    "\n",
    "    pbar.set_description('Epoch=' + str(e))\n",
    "    for batch_idx, (data, _) in enumerate(train_loader):\n",
    "        data = data.cuda()\n",
    "        optimizer.zero_grad()\n",
    "        y, mu, sig = model(data)  # y = reconstructed image\n",
    "        loss = criterion(y, data, mu, sig)\n",
    "        loss.backward()\n",
    "        optimizer.step()\n",
    "    pbar.set_postfix(Loss=loss.item())"
   ]
  },
  {
   "cell_type": "code",
   "execution_count": null,
   "metadata": {},
   "outputs": [],
   "source": [
    "def embed(model, n_samples):\n",
    "    train_loader = torch.utils.data.DataLoader(\n",
    "        datasets.FashionMNIST('../data', train=False, download=True,\n",
    "                              transform=transforms.ToTensor()),\n",
    "        batch_size=n_samples, shuffle=False)\n",
    "    data, y_sample = next(iter(train_loader))\n",
    "\n",
    "    y, z_mu, z_logsig = model(data.cuda())\n",
    "    z_mu = z_mu.cpu().detach().numpy()\n",
    "\n",
    "    plt.figure(figsize=(12, 9))\n",
    "    plt.scatter(z_mu[:, 0], z_mu[:, 1], c=y_sample, cmap=\"Set3\")\n",
    "\n",
    "    plt.colorbar()\n",
    "    plt.grid()"
   ]
  },
  {
   "cell_type": "code",
   "execution_count": null,
   "metadata": {},
   "outputs": [],
   "source": [
    "embed(model, n_samples=5000)"
   ]
  },
  {
   "cell_type": "code",
   "execution_count": null,
   "metadata": {},
   "outputs": [],
   "source": [
    "# Task 2: train using only KL-loss"
   ]
  },
  {
   "cell_type": "code",
   "execution_count": null,
   "metadata": {},
   "outputs": [],
   "source": [
    "def criterion(y, x, z_mu, z_logsig):\n",
    "    # recontruction loss\n",
    "#     recon = F.binary_cross_entropy(y, x.view(-1, 784))\n",
    "    # kl divergence between Q(z|x) ~ N(mu, sigma) and P(z) ~ N(0, I)\n",
    "    kl = -0.5 * torch.sum(1 + z_logsig - z_mu.pow(2) - z_logsig.exp()) / (mb_size * 784)\n",
    "    return kl"
   ]
  },
  {
   "cell_type": "code",
   "execution_count": null,
   "metadata": {},
   "outputs": [],
   "source": [
    "# training loop\n",
    "latent_dim = 2  # z size\n",
    "mb_size = 256  # minibatch size\n",
    "\n",
    "train_loader = torch.utils.data.DataLoader(\n",
    "    datasets.FashionMNIST('../data', train=True, download=True,\n",
    "                          transform=transforms.ToTensor()),\n",
    "    batch_size=mb_size, shuffle=True)\n",
    "\n",
    "kl_model = VAE(latent_dim).cuda()\n",
    "optimizer = torch.optim.Adam(kl_model.parameters(), lr=1e-3)\n",
    "epochs = 10\n",
    "\n",
    "pbar = tqdm(range(1, epochs + 1))\n",
    "for e in pbar:\n",
    "\n",
    "    pbar.set_description('Epoch=' + str(e))\n",
    "    for batch_idx, (data, _) in enumerate(train_loader):\n",
    "        data = data.cuda()\n",
    "        optimizer.zero_grad()\n",
    "        y, mu, sig = kl_model(data)  # y = reconstructed image\n",
    "        loss = criterion(y, data, mu, sig)\n",
    "        loss.backward()\n",
    "        optimizer.step()\n",
    "    pbar.set_postfix(Loss=loss.item())"
   ]
  },
  {
   "cell_type": "code",
   "execution_count": null,
   "metadata": {},
   "outputs": [],
   "source": [
    "embed(kl_model, n_samples=5000)"
   ]
  },
  {
   "cell_type": "code",
   "execution_count": null,
   "metadata": {},
   "outputs": [],
   "source": [
    "# Task 3 (Advanced): train and visualize plain autoencoder"
   ]
  },
  {
   "cell_type": "code",
   "execution_count": null,
   "metadata": {},
   "outputs": [],
   "source": [
    "class AE(nn.Module):\n",
    "    def __init__(self, latent_dim):\n",
    "        super(AE, self).__init__()\n",
    "        \n",
    "        # Task 1: Implement network architecture according to the picture\n",
    "        self.latent_dim = latent_dim\n",
    "        # inference network\n",
    "        self.input_hidden1 = nn.Linear(784, 200)\n",
    "        self.hidden1_hidden2 = nn.Linear(200, 200)\n",
    "        self.embed_hidden2 = nn.Linear(200, latent_dim)\n",
    "        # generation network\n",
    "        self.z_hidden3 = nn.Linear(latent_dim, 200)\n",
    "        self.hidden3_hidden4 = nn.Linear(200, 200)\n",
    "        self.hidden4_output = nn.Linear(200, 784)\n",
    "\n",
    "    def encode(self, x):\n",
    "        # inference network\n",
    "        hidden1 = F.relu(self.input_hidden1(x.view(-1, 784)))\n",
    "        hidden2 = F.relu(self.hidden1_hidden2(hidden1))\n",
    "        return F.relu(self.embed_hidden2(hidden2))\n",
    "\n",
    "    def decode(self, embed):\n",
    "        # generation network\n",
    "        hidden3 = F.relu(self.z_hidden3(embed))\n",
    "        hidden4 = F.relu(self.hidden3_hidden4(hidden3))\n",
    "        y = torch.sigmoid(self.hidden4_output(hidden4))\n",
    "        return y\n",
    "\n",
    "    def forward(self, x):\n",
    "        return self.decode(self.encode(x))"
   ]
  },
  {
   "cell_type": "code",
   "execution_count": null,
   "metadata": {},
   "outputs": [],
   "source": [
    "def criterion(y, x):\n",
    "    # recontruction loss\n",
    "    recon = F.binary_cross_entropy(y, x.view(-1, 784))\n",
    "    # kl divergence between Q(z|x) ~ N(mu, sigma) and P(z) ~ N(0, I)\n",
    "#     kl = -0.5 * torch.sum(1 + z_logsig - z_mu.pow(2) - z_logsig.exp()) / (mb_size * 784)\n",
    "    return recon"
   ]
  },
  {
   "cell_type": "code",
   "execution_count": null,
   "metadata": {},
   "outputs": [],
   "source": [
    "# training loop\n",
    "latent_dim = 50  # z size\n",
    "mb_size = 256  # minibatch size\n",
    "\n",
    "train_loader = torch.utils.data.DataLoader(\n",
    "    datasets.FashionMNIST('../data', train=True, download=True,\n",
    "                          transform=transforms.ToTensor()),\n",
    "    batch_size=mb_size, shuffle=True)\n",
    "\n",
    "ae_model = AE(latent_dim).cuda()\n",
    "optimizer = torch.optim.Adam(ae_model.parameters(), lr=1e-3)\n",
    "epochs = 10\n",
    "\n",
    "pbar = tqdm(range(1, epochs + 1))\n",
    "for e in pbar:\n",
    "\n",
    "    pbar.set_description('Epoch=' + str(e))\n",
    "    for batch_idx, (data, _) in enumerate(train_loader):\n",
    "        data = data.cuda()\n",
    "        optimizer.zero_grad()\n",
    "        y  = ae_model(data)  # y = reconstructed image\n",
    "        loss = criterion(y, data)\n",
    "        loss.backward()\n",
    "        optimizer.step()\n",
    "    pbar.set_postfix(Loss=loss.item())"
   ]
  },
  {
   "cell_type": "code",
   "execution_count": null,
   "metadata": {},
   "outputs": [],
   "source": [
    "import numpy as np\n",
    "from sklearn.decomposition import PCA\n",
    "pca = PCA(n_components=2)"
   ]
  },
  {
   "cell_type": "code",
   "execution_count": null,
   "metadata": {},
   "outputs": [],
   "source": [
    "def embed(model, n_samples):\n",
    "\n",
    "    model.eval()\n",
    "    train_loader = torch.utils.data.DataLoader(\n",
    "        datasets.FashionMNIST('../data', train=False, download=True,\n",
    "                              transform=transforms.ToTensor()),\n",
    "        batch_size=n_samples, shuffle=False)\n",
    "    data, y_sample = next(iter(train_loader))\n",
    "\n",
    "    y = model.encode(data.cuda()).cpu().detach().numpy()\n",
    "    y = pca.fit_transform(y)\n",
    "\n",
    "    plt.figure(figsize=(12, 9))\n",
    "    plt.scatter(y[:, 0], y[:, 1], c=y_sample, cmap=\"Set3\")\n",
    "\n",
    "    plt.colorbar()\n",
    "    plt.grid()"
   ]
  },
  {
   "cell_type": "code",
   "execution_count": null,
   "metadata": {},
   "outputs": [],
   "source": [
    "embed(ae_model, n_samples=5000)"
   ]
  },
  {
   "cell_type": "markdown",
   "metadata": {},
   "source": [
    "## Vector arithmetic\n",
    "So how do we actually produce these smooth interpolations we speak of? From here on out, it’s simple vector arithmetic in the latent space."
   ]
  },
  {
   "cell_type": "markdown",
   "metadata": {},
   "source": [
    "<img src=\"https://user-images.githubusercontent.com/1387585/52692180-d8fd5d00-2f6b-11e9-8c0e-8c2af0a6e13a.png\" alt=\"Drawing\" style=\"width: 600px;\"/>\n"
   ]
  },
  {
   "cell_type": "code",
   "execution_count": null,
   "metadata": {},
   "outputs": [],
   "source": [
    "def latent_space_representation(grid_w, extent, model):\n",
    "    x = np.linspace(extent[0], extent[1], grid_w)\n",
    "    y = x\n",
    "    final_img_grid = np.zeros(shape=(28 * grid_w, 28 * grid_w))\n",
    "    x_pixel, y_pixel = 0, 0\n",
    "    for i in x:\n",
    "        for j in y:\n",
    "            z = torch.FloatTensor([i, j]).cuda()\n",
    "            sample = model.decode(z).cpu()\n",
    "            sample = sample.data.cpu().numpy().reshape(28, 28)\n",
    "            final_img_grid[x_pixel: x_pixel + 28, y_pixel: y_pixel + 28] = sample\n",
    "            y_pixel += 28\n",
    "        x_pixel += 28\n",
    "        y_pixel = 0\n",
    "    fig, axes = plt.subplots(1, 1, figsize=(8, 8), dpi=100)\n",
    "    plt.imshow(\n",
    "        final_img_grid,\n",
    "        extent=[extent[0], extent[1], extent[0], extent[1]],\n",
    "        cmap=\"gray\",\n",
    "    )  # get current figure\n",
    "    plt.title(\"VAE latent space representation\", fontsize=14)\n",
    "    plt.xlabel(\"z dimension 1\", fontsize=14)\n",
    "    plt.ylabel(\"z dimension 2\", fontsize=14)\n",
    "    plt.savefig(\"latent_space.png\")"
   ]
  },
  {
   "cell_type": "code",
   "execution_count": null,
   "metadata": {},
   "outputs": [],
   "source": [
    "latent_space_representation(20, (-10, 10), model)  # explore latent space representation"
   ]
  },
  {
   "cell_type": "markdown",
   "metadata": {},
   "source": [
    "## Where to from here?\n",
    "There are plenty of further improvements that can be made over the variational autoencoder. You could indeed, replace the standard fully-connected dense encoder-decoder with a convolutional-deconvolutional encoder-decoder pair, such as this project[4], to produce great synthetic human face photos."
   ]
  },
  {
   "cell_type": "markdown",
   "metadata": {},
   "source": [
    "<img src=\"https://user-images.githubusercontent.com/1387585/52692216-fa5e4900-2f6b-11e9-83da-8a3e17ee03d3.png\" alt=\"Drawing\" style=\"width: 500px;\"/>\n"
   ]
  },
  {
   "cell_type": "markdown",
   "metadata": {},
   "source": [
    "You could even train an autoencoder using LSTM encoder-decoder pairs (using a modified version of the seq2seq architecture) for sequential, discrete data (something not possible with methods such as GANs), to produce synthetic text, or even interpolate between MIDI samples such as Google Brain’s Magenta’s MusicVAE[5]:"
   ]
  },
  {
   "cell_type": "markdown",
   "metadata": {},
   "source": [
    "### [Click to play!]\n",
    "\n",
    "[![IMAGE ALT TEXT HERE](https://user-images.githubusercontent.com/1387585/52692349-5628d200-2f6c-11e9-9fc0-48a272fbfe9d.png)](http://www.youtube.com/watch?v=Ir_AFDKOc-I)"
   ]
  },
  {
   "cell_type": "markdown",
   "metadata": {},
   "source": [
    "VAEs work with remarkably diverse types of data, sequential or non-sequential, continuous or discrete, even labelled or completely unlabelled, making them highly powerful generative tools. I hope you now understand how VAEs work, and that you will be able to use them on your own generative endeavors as well."
   ]
  }
 ],
 "metadata": {
  "kernelspec": {
   "display_name": "fairkernel",
   "language": "python",
   "name": "fairkernel"
  },
  "language_info": {
   "codemirror_mode": {
    "name": "ipython",
    "version": 3
   },
   "file_extension": ".py",
   "mimetype": "text/x-python",
   "name": "python",
   "nbconvert_exporter": "python",
   "pygments_lexer": "ipython3",
   "version": "3.6.5"
  }
 },
 "nbformat": 4,
 "nbformat_minor": 2
}
